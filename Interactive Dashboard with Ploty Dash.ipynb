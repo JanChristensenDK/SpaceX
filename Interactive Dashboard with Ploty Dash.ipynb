{
 "cells": [
  {
   "cell_type": "markdown",
   "metadata": {},
   "source": [
    "## Interactive Dashboard with Ploty Dash"
   ]
  },
  {
   "cell_type": "markdown",
   "metadata": {},
   "source": [
    "In this lab, you will be building a Plotly Dash application for users to perform interactive visual analytics on SpaceX launch data in\n",
    "real-time."
   ]
  },
  {
   "cell_type": "code",
   "execution_count": 71,
   "metadata": {},
   "outputs": [],
   "source": [
    "# Import required libraries\n",
    "import pandas as pd\n",
    "import dash\n",
    "import dash_html_components as html\n",
    "import dash_core_components as dcc\n",
    "from dash.dependencies import Input, Output\n",
    "import plotly.express as px\n",
    "import requests"
   ]
  },
  {
   "cell_type": "code",
   "execution_count": 72,
   "metadata": {},
   "outputs": [],
   "source": [
    "url = \"https://cf-courses-data.s3.us.cloud-object-storage.appdomain.cloud/IBM-DS0321EN-SkillsNetwork/datasets/spacex_launch_dash.csv\"\n",
    "response = requests.get(url)\n",
    "\n",
    "# Save the content to a file\n",
    "with open('spacex_launch_dash.csv', 'wb') as file:\n",
    "    file.write(response.content)"
   ]
  },
  {
   "cell_type": "code",
   "execution_count": 73,
   "metadata": {},
   "outputs": [],
   "source": [
    "url = \"https://cf-courses-data.s3.us.cloud-object-storage.appdomain.cloud/IBM-DS0321EN-SkillsNetwork/labs/module_3/spacex_dash_app.py\"\n",
    "response = requests.get(url)\n",
    "\n",
    "# Save the content to a file\n",
    "with open('spacex_dash_app.py', 'wb') as file:\n",
    "    file.write(response.content)\n",
    "# filen er kopieret ind i følgende ramme"
   ]
  },
  {
   "cell_type": "code",
   "execution_count": 74,
   "metadata": {},
   "outputs": [],
   "source": [
    "# Inlæs data til en pandas dataframe\n",
    "spacex_df = pd.read_csv(\"spacex_launch_dash.csv\")\n",
    "max_payload = spacex_df['Payload Mass (kg)'].max()\n",
    "min_payload = spacex_df['Payload Mass (kg)'].min()\n"
   ]
  },
  {
   "cell_type": "code",
   "execution_count": 75,
   "metadata": {},
   "outputs": [
    {
     "data": {
      "text/plain": [
       "Index(['Unnamed: 0', 'Flight Number', 'Launch Site', 'class',\n",
       "       'Payload Mass (kg)', 'Booster Version', 'Booster Version Category'],\n",
       "      dtype='object')"
      ]
     },
     "execution_count": 75,
     "metadata": {},
     "output_type": "execute_result"
    }
   ],
   "source": [
    "# dan liste med kolonnenavne til brug for valg af site\n",
    "spacex_df.columns"
   ]
  },
  {
   "cell_type": "code",
   "execution_count": 76,
   "metadata": {},
   "outputs": [],
   "source": [
    "# Dan en dash applikation\n",
    "app = dash.Dash(__name__)"
   ]
  },
  {
   "cell_type": "code",
   "execution_count": 77,
   "metadata": {},
   "outputs": [],
   "source": [
    "@app.callback(\n",
    "    Output(component_id='success-pie-chart', component_property='figure'),\n",
    "    Input(component_id='site-dropdown', component_property='value')\n",
    ")\n",
    "def get_pie_chart(entered_site):\n",
    "    if entered_site == 'ALL':\n",
    "        # Pie chart for all sites\n",
    "        fig = px.pie(\n",
    "            spacex_df,\n",
    "            values='class',\n",
    "            names='Launch Site',\n",
    "            title='Total Success Launches for All Sites'\n",
    "        )\n",
    "    else:\n",
    "        # Filtered pie chart for the selected site\n",
    "        filtered_df = spacex_df[spacex_df['Launch Site'] == entered_site]\n",
    "        fig = px.pie(\n",
    "            filtered_df,\n",
    "            names='class',\n",
    "            title=f'Total Success Launches for Site {entered_site}'\n",
    "        )\n",
    "    return fig"
   ]
  },
  {
   "cell_type": "code",
   "execution_count": 78,
   "metadata": {},
   "outputs": [],
   "source": [
    "@app.callback(\n",
    "    Output(component_id='success-payload-scatter-chart', component_property='figure'),\n",
    "    [Input(component_id='site-dropdown', component_property='value'), Input(component_id=\"payload-slider\", component_property=\"value\")]\n",
    ")\n",
    "def get_scatter(entered_site,chosen_payload):\n",
    "    if entered_site == 'ALL':\n",
    "        # Pie chart for all sites\n",
    "        fig = px.scatter(\n",
    "            spacex_df,\n",
    "            x='Payload Mass (kg)',\n",
    "            y='class',\n",
    "            color=\"Booster Version Category\",\n",
    "            title='Correlation between payload and success for all launch sites'\n",
    "        )\n",
    "    else:\n",
    "        # Filtered pie chart for the selected site\n",
    "        filtered_df = spacex_df[spacex_df['Launch Site'] == entered_site]\n",
    "        fig = px.scatter(\n",
    "            filtered_df,\n",
    "            x='Payload Mass (kg)',\n",
    "            y='class',\n",
    "            color=\"Booster Version Category\",\n",
    "            title=f'Correlation between payload, booster version and success for launch site {entered_site}'\n",
    "        )\n",
    "    return fig"
   ]
  },
  {
   "cell_type": "code",
   "execution_count": 79,
   "metadata": {},
   "outputs": [
    {
     "data": {
      "text/html": [
       "\n",
       "        <iframe\n",
       "            width=\"100%\"\n",
       "            height=\"650\"\n",
       "            src=\"http://127.0.0.1:8050/\"\n",
       "            frameborder=\"0\"\n",
       "            allowfullscreen\n",
       "            \n",
       "        ></iframe>\n",
       "        "
      ],
      "text/plain": [
       "<IPython.lib.display.IFrame at 0x1ef662cb700>"
      ]
     },
     "metadata": {},
     "output_type": "display_data"
    }
   ],
   "source": [
    "# Create an app layout\n",
    "app.layout = html.Div(children=[\n",
    "    html.H1('SpaceX Launch Records Dashboard',\n",
    "            style={'textAlign': 'center', 'color': '#503D36', 'font-size': 40}),\n",
    "    \n",
    "    # TASK 1: Add a dropdown list to enable Launch Site selection\n",
    "    dcc.Dropdown(\n",
    "        id='site-dropdown',\n",
    "        options=[\n",
    "            {'label': 'All Sites', 'value': 'ALL'},\n",
    "            {'label': 'CCAFS LC-40', 'value': 'CCAFS LC-40'},\n",
    "            {'label': 'CCAFS SLC-40', 'value': 'CCAFS SLC-40'},\n",
    "            {'label': 'KSC LC-39A', 'value': 'KSC LC-39A'},\n",
    "            {'label': 'VAFB SLC-4E', 'value': 'VAFB SLC-4E'},\n",
    "        ],\n",
    "        value='ALL',\n",
    "        placeholder=\"Select a Launch Site\",\n",
    "        searchable=True\n",
    "    ),\n",
    "    html.Br(),\n",
    "    \n",
    "    # TASK 2: Add a pie chart to show the total successful launches count for all sites\n",
    "    html.Div(dcc.Graph(id='success-pie-chart')),\n",
    "    html.Br(),\n",
    "    \n",
    "    html.P(\"Payload range (Kg):\", style={\"color\": \"white\"}),\n",
    "\n",
    "    # Payload slider\n",
    "    dcc.RangeSlider(id='payload-slider',\n",
    "    min=0, max=10000, step=1000,\n",
    "    marks={i: {'label': str(i), 'style': {'color': 'white'}} for i in range(0, 10000, 1000)},\n",
    "    value=[min_payload, max_payload],\n",
    "    tooltip={\"always_visible\": True, \"placement\": \"bottom\"},\n",
    "    updatemode='drag',\n",
    "    className='slider-style'),\n",
    "    \n",
    "    # TASK 4: Add a scatter chart to show the correlation between payload and launch success\n",
    "    html.Div(dcc.Graph(id='success-payload-scatter-chart')),\n",
    "])\n",
    "\n",
    "\n",
    "# TASK 4:\n",
    "# Add a callback function for `site-dropdown` and `payload-slider` as inputs, `success-payload-scatter-chart` as output\n",
    "# (To be implemented)\n",
    "\n",
    "# Run the app\n",
    "if __name__ == '__main__':\n",
    "    app.run_server()\n"
   ]
  }
 ],
 "metadata": {
  "kernelspec": {
   "display_name": "Python 3",
   "language": "python",
   "name": "python3"
  },
  "language_info": {
   "codemirror_mode": {
    "name": "ipython",
    "version": 3
   },
   "file_extension": ".py",
   "mimetype": "text/x-python",
   "name": "python",
   "nbconvert_exporter": "python",
   "pygments_lexer": "ipython3",
   "version": "3.10.11"
  }
 },
 "nbformat": 4,
 "nbformat_minor": 2
}
